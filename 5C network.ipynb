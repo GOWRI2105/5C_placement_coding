{
 "cells": [
  {
   "cell_type": "code",
   "execution_count": 5,
   "id": "f9ac77a9",
   "metadata": {},
   "outputs": [
    {
     "name": "stdout",
     "output_type": "stream",
     "text": [
      "1. Overall Gross Margin: 1207.1999999999998\n",
      "2. Most Profitable Vendor: Vendor7\n",
      "3. Least Profitable Customer: Customer9\n",
      "4. Most Profitable Day of the Week: Monday\n",
      "5. Least Profitable Day of the Week: Thursday\n"
     ]
    }
   ],
   "source": [
    "import pandas as pd\n",
    "\n",
    "# Load the CSV file into a DataFrame\n",
    "df = pd.read_csv(\"sales_data_1.csv\")\n",
    "\n",
    "# 1. Calculate the overall gross margin\n",
    "overall_gross_margin = (df[\"Selling price\"] - df[\"Buying price\"]).sum()\n",
    "\n",
    "# 2. Calculate the profit for each vendor (Firm bought from)\n",
    "vendor_profit = df.groupby(\"Firm bought from\")[\"Selling price\"].sum() - df.groupby(\"Firm bought from\")[\"Buying price\"].sum()\n",
    "most_profitable_vendor = vendor_profit.idxmax()\n",
    "\n",
    "# 3. Calculate the profit for each customer\n",
    "customer_profit = df.groupby(\"Customer\")[\"Selling price\"].sum() - df.groupby(\"Customer\")[\"Buying price\"].sum()\n",
    "least_profitable_customer = customer_profit.idxmin()\n",
    "\n",
    "# 4. Calculate the most profitable day of the week\n",
    "df[\"Date\"] = pd.to_datetime(df[\"Date\"], format='%d/%m/%y')\n",
    "df[\"Day of Week\"] = df[\"Date\"].dt.day_name()\n",
    "day_profit = df.groupby(\"Day of Week\")[\"Selling price\"].sum() - df.groupby(\"Day of Week\")[\"Buying price\"].sum()\n",
    "most_profitable_day = day_profit.idxmax()\n",
    "\n",
    "# 5. Calculate the least profitable day of the week\n",
    "least_profitable_day = day_profit.idxmin()\n",
    "\n",
    "# Print the results\n",
    "print(\"1. Overall Gross Margin:\", overall_gross_margin)\n",
    "print(\"2. Most Profitable Vendor:\", most_profitable_vendor)\n",
    "print(\"3. Least Profitable Customer:\", least_profitable_customer)\n",
    "print(\"4. Most Profitable Day of the Week:\", most_profitable_day)\n",
    "print(\"5. Least Profitable Day of the Week:\", least_profitable_day)"
   ]
  },
  {
   "cell_type": "code",
   "execution_count": 16,
   "id": "e1b40e5a",
   "metadata": {},
   "outputs": [
    {
     "name": "stdout",
     "output_type": "stream",
     "text": [
      "1. 3-Day Average of Daily Gross Profit:\n",
      "         Date  3-Day Avg Profit\n",
      "0  2023-08-21               NaN\n",
      "1  2023-08-21               NaN\n",
      "2  2023-08-21         15.976667\n",
      "3  2023-08-21         13.660000\n",
      "4  2023-08-21         24.786667\n",
      "..        ...               ...\n",
      "65 2023-08-27         20.686667\n",
      "66 2023-08-27         22.173333\n",
      "67 2023-08-27         23.016667\n",
      "68 2023-08-27         26.010000\n",
      "69 2023-08-27         29.036667\n",
      "\n",
      "[70 rows x 2 columns]\n",
      "2. Insights into the 3-Day Trend:\n",
      "         Date  3-Day Trend\n",
      "0  2023-08-21          NaN\n",
      "1  2023-08-21          NaN\n",
      "2  2023-08-21          NaN\n",
      "3  2023-08-21    -2.316667\n",
      "4  2023-08-21    11.126667\n",
      "..        ...          ...\n",
      "65 2023-08-27    -3.240000\n",
      "66 2023-08-27     1.486667\n",
      "67 2023-08-27     0.843333\n",
      "68 2023-08-27     2.993333\n",
      "69 2023-08-27     3.026667\n",
      "\n",
      "[70 rows x 2 columns]\n",
      "3. Optimization Recommendations:\n",
      "3.1 Vendor to Fire: Vendor6\n",
      "3.2 Customer to Let Go: Customer9\n",
      "4. Percentiles for Buying and Selling Prices:\n",
      "       Buying price  Selling price\n",
      "count     70.000000      70.000000\n",
      "mean      56.667571      73.913286\n",
      "min       10.190000      11.650000\n",
      "25%       29.900000      38.975000\n",
      "50%       60.760000      78.990000\n",
      "75%       78.320000     103.397500\n",
      "max       99.230000     146.760000\n",
      "std       27.520992      37.990807\n",
      "5. Analysis of Sapota's Pricing:\n",
      "Number of times falling below 25th percentile: 18\n",
      "Number of times going above 75th percentile: 21\n"
     ]
    }
   ],
   "source": [
    "import pandas as pd\n",
    "# Load the CSV file into a DataFrame\n",
    "df = pd.read_csv(\"sales_data_2.csv\")\n",
    "\n",
    "# Convert the \"Date\" column to a datetime object\n",
    "df[\"Date\"] = pd.to_datetime(df[\"Date\"])\n",
    "\n",
    "# Calculate profit for each transaction\n",
    "df[\"Daily Gross Profit\"] = df[\"Selling price\"] - df[\"Buying price\"]\n",
    "\n",
    "# Calculate a 3-day average of the daily gross profit\n",
    "df[\"3-Day Avg Profit\"] = df[\"Daily Gross Profit\"].rolling(window=3).mean()\n",
    "print(\"1. 3-Day Average of Daily Gross Profit:\")\n",
    "print(df[[\"Date\", \"3-Day Avg Profit\"]])\n",
    "\n",
    "\n",
    "# Provide insights into how the 3-day trend changes\n",
    "# You can analyze the \"3-Day Avg Profit\" column to understand the trends over time.\n",
    "\n",
    "# Calculate the trends in 3-day average daily gross profit\n",
    "df[\"3-Day Trend\"] = df[\"3-Day Avg Profit\"].diff()\n",
    "\n",
    "# Print the 3-day trend data\n",
    "print(\"2. Insights into the 3-Day Trend:\")\n",
    "print(df[[\"Date\", \"3-Day Trend\"]])\n",
    "\n",
    "#  Optimize the sales process:\n",
    "#  Would you fire any vendor?\n",
    "vendor_profit = df.groupby(\"Firm bought from\")[\"Selling price\"].sum() - df.groupby(\"Firm bought from\")[\"Buying price\"].sum()\n",
    "least_profitable_vendor = vendor_profit.idxmin()\n",
    "#  Would you let go of any customer?\n",
    "customer_profit = df.groupby(\"Customer\")[\"Selling price\"].sum() - df.groupby(\"Customer\")[\"Buying price\"].sum()\n",
    "least_profitable_customer = customer_profit.idxmin()\n",
    "\n",
    "print(\"3. Optimization Recommendations:\")\n",
    "print(\"3.1 Vendor to Fire:\", least_profitable_vendor)\n",
    "print(\"3.2 Customer to Let Go:\", least_profitable_customer)\n",
    "\n",
    "#  Calculate percentiles for buying and selling prices\n",
    "percentiles = df.describe(percentiles=[0.25, 0.5, 0.75])[[\"Buying price\", \"Selling price\"]]\n",
    "\n",
    "print(\"4. Percentiles for Buying and Selling Prices:\")\n",
    "print(percentiles)\n",
    "\n",
    "#  Analyze how often prices fall below the 25th percentile or above the 75th percentile\n",
    "below_25th_percentile = (df['Buying price'] < buying_percentiles.loc[0.25, 'Buying price']) | (df['Selling price'] < selling_percentiles.loc[0.25, 'Selling price'])\n",
    "above_75th_percentile = (df['Buying price'] > buying_percentiles.loc[0.75, 'Buying price']) | (df['Selling price'] > selling_percentiles.loc[0.75, 'Selling price'])\n",
    "\n",
    "# Calculate the frequency of falling below 25th and above 75th percentile\n",
    "below_25th_percentile_count = below_25th_percentile.sum()\n",
    "above_75th_percentile_count = above_75th_percentile.sum()\n",
    "\n",
    "\n",
    "print(\"5. Analysis of Sapota's Pricing:\")\n",
    "print(\"Number of times falling below 25th percentile:\", below_25th_percentile_count)\n",
    "print(\"Number of times going above 75th percentile:\", above_75th_percentile_count)\n"
   ]
  },
  {
   "cell_type": "code",
   "execution_count": 14,
   "id": "d4415d63",
   "metadata": {},
   "outputs": [
    {
     "name": "stdout",
     "output_type": "stream",
     "text": [
      "Requirement already satisfied: statsmodels in c:\\users\\admin\\anaconda3\\lib\\site-packages (0.14.0)\n",
      "Requirement already satisfied: numpy>=1.18 in c:\\users\\admin\\anaconda3\\lib\\site-packages (from statsmodels) (1.24.3)\n",
      "Requirement already satisfied: scipy!=1.9.2,>=1.4 in c:\\users\\admin\\anaconda3\\lib\\site-packages (from statsmodels) (1.11.1)\n",
      "Requirement already satisfied: pandas>=1.0 in c:\\users\\admin\\anaconda3\\lib\\site-packages (from statsmodels) (2.0.3)\n",
      "Requirement already satisfied: patsy>=0.5.2 in c:\\users\\admin\\anaconda3\\lib\\site-packages (from statsmodels) (0.5.3)\n",
      "Requirement already satisfied: packaging>=21.3 in c:\\users\\admin\\anaconda3\\lib\\site-packages (from statsmodels) (23.1)\n",
      "Requirement already satisfied: python-dateutil>=2.8.2 in c:\\users\\admin\\anaconda3\\lib\\site-packages (from pandas>=1.0->statsmodels) (2.8.2)\n",
      "Requirement already satisfied: pytz>=2020.1 in c:\\users\\admin\\anaconda3\\lib\\site-packages (from pandas>=1.0->statsmodels) (2023.3.post1)\n",
      "Requirement already satisfied: tzdata>=2022.1 in c:\\users\\admin\\anaconda3\\lib\\site-packages (from pandas>=1.0->statsmodels) (2023.3)\n",
      "Requirement already satisfied: six in c:\\users\\admin\\anaconda3\\lib\\site-packages (from patsy>=0.5.2->statsmodels) (1.16.0)\n",
      "Note: you may need to restart the kernel to use updated packages.\n"
     ]
    }
   ],
   "source": [
    "pip install statsmodels"
   ]
  },
  {
   "cell_type": "code",
   "execution_count": 15,
   "id": "50c4b614",
   "metadata": {},
   "outputs": [
    {
     "name": "stdout",
     "output_type": "stream",
     "text": [
      "Impact on Gross Margin by Honoring Vendor 4: -866.98\n",
      "Vendor for Strategic Tie-Up: Vendor7\n"
     ]
    }
   ],
   "source": [
    "#  Calculate the optimal gross margin both with and without Vendor 4\n",
    "without_vendor_4 = df[df[\"Firm bought from\"] != \"Vendor4\"]\n",
    "with_vendor_4 = df[df[\"Firm bought from\"] == \"Vendor4\"]\n",
    "\n",
    "optimal_gross_margin_without = (without_vendor_4[\"Selling price\"] - without_vendor_4[\"Buying price\"]).sum()\n",
    "optimal_gross_margin_with = (with_vendor_4[\"Selling price\"] - with_vendor_4[\"Buying price\"]).sum()\n",
    "\n",
    "impact_on_gross_margin = optimal_gross_margin_with - optimal_gross_margin_without\n",
    "print(\"Impact on Gross Margin by Honoring Vendor 4:\", impact_on_gross_margin)\n",
    "\n",
    "#  Identify the vendor for a strategic tie-up to maximize gross margin\n",
    "vendor_gross_margin = df.groupby(\"Firm bought from\")[\"Selling price\"].sum() - df.groupby(\"Firm bought from\")[\"Buying price\"].sum()\n",
    "strategic_vendor = vendor_gross_margin.idxmax()\n",
    "theoretical_max_margin = vendor_gross_margin.max()\n",
    "\n",
    "print(\"Vendor for Strategic Tie-Up:\", strategic_vendor)\n",
    "\n"
   ]
  },
  {
   "cell_type": "code",
   "execution_count": null,
   "id": "7c026a12",
   "metadata": {},
   "outputs": [],
   "source": []
  }
 ],
 "metadata": {
  "kernelspec": {
   "display_name": "Python 3 (ipykernel)",
   "language": "python",
   "name": "python3"
  },
  "language_info": {
   "codemirror_mode": {
    "name": "ipython",
    "version": 3
   },
   "file_extension": ".py",
   "mimetype": "text/x-python",
   "name": "python",
   "nbconvert_exporter": "python",
   "pygments_lexer": "ipython3",
   "version": "3.11.5"
  }
 },
 "nbformat": 4,
 "nbformat_minor": 5
}
